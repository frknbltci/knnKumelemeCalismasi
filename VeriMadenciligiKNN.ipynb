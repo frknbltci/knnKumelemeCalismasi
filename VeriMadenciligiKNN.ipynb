{
 "cells": [
  {
   "cell_type": "markdown",
   "metadata": {},
   "source": [
    "## Gerekli Kütüphaneler"
   ]
  },
  {
   "cell_type": "code",
   "execution_count": 1,
   "metadata": {},
   "outputs": [],
   "source": [
    "import numpy as np\n",
    "#Analiz görselleştrime için;\n",
    "import matplotlib.pyplot as plt\n",
    "%matplotlib inline\n",
    "#analizler için\n",
    "from sklearn.metrics import classification_report, confusion_matrix, roc_curve, roc_auc_score\n",
    "#csv verisini okumak için;\n",
    "from csv import reader\n",
    "#matematik işlemleri için;\n",
    "from math import sqrt\n",
    "#minkowski ve manhatta mesafesi hesabı için;\n",
    "from scipy.spatial import distance\n",
    "\n"
   ]
  },
  {
   "cell_type": "markdown",
   "metadata": {},
   "source": [
    "## Sonuçların Analizi İçin İhtiyacımız Olan Fonksiyonlar"
   ]
  },
  {
   "cell_type": "code",
   "execution_count": 2,
   "metadata": {},
   "outputs": [],
   "source": [
    "#plotcurve \n",
    "def plot_roc_curve(fpr, tpr, auc_score):\n",
    "    plt.plot(fpr, tpr, color='orange', label='ROC')\n",
    "    plt.plot([0, 1], [0, 1], color='darkblue', linestyle='--')\n",
    "    plt.xlabel('False Positive Oran')\n",
    "    plt.ylabel('True Positive Oran')\n",
    "    plt.title('Roc Curve\\nAuc Score:{}'.format(round((auc_score * 100),2)))\n",
    "    plt.legend()\n",
    "    plt.show()\n",
    "    \n",
    "#confusion \n",
    "def plot_confusion_matrix(cm, cmap=plt.cm.Blues):\n",
    "    plt.imshow(cm, interpolation='nearest', cmap=cmap)\n",
    "    plt.title(\"Confusion Matrix\")\n",
    "    plt.colorbar()\n",
    "    tick_marks = np.arange(2)\n",
    "    plt.xticks(tick_marks, [0,1])\n",
    "    plt.yticks(tick_marks, [0,1])\n",
    "    plt.tight_layout()\n",
    "    plt.ylabel('Beklenen Değerler')\n",
    "    plt.xlabel('Tahmini Değerler')"
   ]
  },
  {
   "cell_type": "markdown",
   "metadata": {},
   "source": [
    "## KNN- Öklid Mesafesi"
   ]
  },
  {
   "cell_type": "code",
   "execution_count": 3,
   "metadata": {},
   "outputs": [],
   "source": [
    "# verileri alıp listede tuttuğumuz kısım\n",
    "def veri_al(isim):\n",
    "\tveriSeti = list()\n",
    "\twith open(isim, 'r') as f:\n",
    "\t\tcsv = reader(f)\n",
    "\t\tfor row in csv:\n",
    "\t\t\tif not row:\n",
    "\t\t\t\tcontinue\n",
    "\t\t\tveriSeti.append(row)\n",
    "\treturn veriSeti\n",
    "\n",
    "\n",
    "####\n",
    "#Verileri direk alıp kullanırken, str -: hatası ile karşılaşıldı.\n",
    "#string verileri işleme sokulamadığından, string verileri float ve int değerlere çevirmek için bu kod buloğu eklenmiştir\n",
    "#Bu fonksiyonlar uyarlama kullanılmıştır.\n",
    " \n",
    "# Convert string column to float\n",
    "def str_column_to_float(dataset, column):\n",
    "\tfor row in dataset:\n",
    "\t\trow[column] = float(row[column].strip())\n",
    " \n",
    " # Convert string column to integer\n",
    "def str_column_to_int(dataset, column):\n",
    "\tclass_values = [row[column] for row in dataset]\n",
    "\tunique = set(class_values)\n",
    "\tlookup = dict()\n",
    "\tfor i, value in enumerate(unique):\n",
    "\t\tlookup[value] = i\n",
    "\tfor row in dataset:\n",
    "\t\trow[column] = lookup[row[column]]\n",
    "\treturn lookup\n",
    "\n",
    "##\n",
    "# Oklid Mesafe Hesabı\n",
    "def oklid_mesafesi(row1, row2):\n",
    "\tmesafe = 0.0\n",
    "\tfor i in range(len(row1)-1):\n",
    "\t\tmesafe += (row1[i] - row2[i])**2\n",
    "\treturn sqrt(mesafe)\n",
    "\n",
    "# Komşular(Neighbors)\n",
    "#mesafeleri en yakın komşuları bulmak için sort methodu ile sıralıyoruz.\n",
    "#en yakın komşuları seçiyoruz.\n",
    "def komsuBelirlermeOklid(egitimVerileri, testVerileri, komsu_sayisi):\n",
    "\tmesafeler = list()\n",
    "\tfor row in egitimVerileri:\n",
    "\t\tdist = oklid_mesafesi(testVerileri, row)\n",
    "\t\tmesafeler.append((row, dist))     #her satır ile öklid mesafe sonucunu listeye atıyoruz\n",
    "\tmesafeler.sort(key=lambda tup: tup[1])  #distance'a göre sıralama yapıyoruz\n",
    "\tkomsuDegerler = list()          # tahminde kullanacağımız komşu değerler listesi\n",
    "\tfor i in range(komsu_sayisi):   #parametre olarak aldığımız komşu sayımız kadar döngüye soktuk\n",
    "\t\tkomsuDegerler.append(mesafeler[i][0])     #ve en yakın komşularını aldığımz kısım\n",
    "\treturn komsuDegerler\n",
    "\n",
    "# Komşulardan tahmin etme kısmı\n",
    "#tek tek satıraları yeni veriler ile karşılaştırıp en yakın komşuları bulduktan sonra tabloda karşılık geldiği\n",
    "#kısımların sonuçlarına bakarak sayıyoruz en çok hangi sonuç çıktıysa (0 ve ya 1 ) ona göre tahmin yapıyoruz.\n",
    "def tahmin(egitim, test, komsular):\n",
    "\tkomsular = komsuBelirlermeOklid(egitim, test, komsular)\n",
    "\tval = [row[-1] for row in komsular]    #burada komşuların değerlerini döndürüp value ye atadık\n",
    "\ttahmin = max(set(val), key=val.count)  #val 0 ların sayısı fazla ise tahmin 0,1 lerin sayısı fazla ise 1  \n",
    "\treturn tahmin\n",
    "\n",
    "\n",
    "#TAHMİN\n",
    "filename = 'heart.csv'\n",
    "veriSeti = veri_al(filename)\n",
    "\n",
    "for i in range(len(veriSeti[0])-1):\n",
    "\tstr_column_to_float(veriSeti, i)\n",
    "# convert class column to integers\n",
    "str_column_to_int(veriSeti, len(veriSeti[0])-1)\n",
    "\n",
    "komsu_sayisi = 5\n",
    "\n",
    "#tahmin sonuclarını alıyoruz.\n",
    "hedefVeriler=[]\n",
    "sonucTahminOklid=[]\n",
    "\n",
    "for i in range(0,len(veriSeti)):\n",
    "    row = veriSeti[i]    \n",
    "    deger = tahmin(veriSeti, row, komsu_sayisi)\n",
    "    sonucTahminOklid.append(deger)\n",
    "    hedefVeriler.append(veriSeti[i][13])\n",
    "\n"
   ]
  },
  {
   "cell_type": "markdown",
   "metadata": {},
   "source": [
    "## Öklid Mesafesi için Analizlerimiz :Confusion Matrisi ve Roc Eğrisi"
   ]
  },
  {
   "cell_type": "code",
   "execution_count": 4,
   "metadata": {},
   "outputs": [
    {
     "data": {
      "image/png": "[encoded data removed]",
      "text/plain": [
       "<Figure size 360x288 with 2 Axes>"
      ]
     },
     "metadata": {
      "needs_background": "light"
     },
     "output_type": "display_data"
    },
    {
     "name": "stdout",
     "output_type": "stream",
     "text": [
      "              precision    recall  f1-score   support\n",
      "\n",
      "           0       0.77      0.80      0.78       164\n",
      "           1       0.75      0.72      0.73       138\n",
      "\n",
      "   micro avg       0.76      0.76      0.76       302\n",
      "   macro avg       0.76      0.76      0.76       302\n",
      "weighted avg       0.76      0.76      0.76       302\n",
      "\n"
     ]
    }
   ],
   "source": [
    "knn_cf_result = confusion_matrix(hedefVeriler, sonucTahminOklid)\n",
    "plt.figure(figsize=(5, 4))\n",
    "plot_confusion_matrix(knn_cf_result)\n",
    "plt.show()\n",
    "\n",
    "\n",
    "print(classification_report(hedefVeriler, sonucTahminOklid))\n"
   ]
  },
  {
   "cell_type": "code",
   "execution_count": 5,
   "metadata": {},
   "outputs": [
    {
     "data": {
      "image/png": "[encoded data removed]",
      "text/plain": [
       "<Figure size 360x288 with 1 Axes>"
      ]
     },
     "metadata": {
      "needs_background": "light"
     },
     "output_type": "display_data"
    }
   ],
   "source": [
    "knn_auc_score = roc_auc_score(hedefVeriler, sonucTahminOklid)\n",
    "knn_fpr, knn_tpr, knn_thresholds = roc_curve(hedefVeriler, sonucTahminOklid)\n",
    "plt.figure(figsize=(5, 4))\n",
    "plot_roc_curve(knn_fpr, knn_tpr, knn_auc_score)\n",
    "plt.show()"
   ]
  },
  {
   "cell_type": "markdown",
   "metadata": {},
   "source": [
    "## K-NN Minkowski Mesafesi "
   ]
  },
  {
   "cell_type": "code",
   "execution_count": 6,
   "metadata": {},
   "outputs": [],
   "source": [
    "def mesafe_minkow(row1, row2): \n",
    "    # vektör değerlerini paralel,satır olarak alınmıştır.\n",
    "    res=distance.minkowski(row1,row2,3)\n",
    "    return  res;\n",
    "                       "
   ]
  },
  {
   "cell_type": "code",
   "execution_count": 7,
   "metadata": {},
   "outputs": [],
   "source": [
    "\n",
    "# Komşular(Neighbors)\n",
    "def komsuBelirlermeMinkow(egitimVerileri, testVerileri, komsu_sayisi):\n",
    "\tmesafeler = list()\n",
    "\tfor row in egitimVerileri:\n",
    "\t\tdist = mesafe_minkow(testVerileri, row)\n",
    "\t\tmesafeler.append((row, dist))\n",
    "\tmesafeler.sort(key=lambda tup: tup[1])\n",
    "\tkomsuDegerler = list()\n",
    "\tfor i in range(komsu_sayisi):\n",
    "\t\tkomsuDegerler.append(mesafeler[i][0])\n",
    "\treturn komsuDegerler\n",
    "\n",
    "# Komşulardan tahmin etme kısmı\n",
    "def tahmin(egitim, test, komsular):\n",
    "\tkomsular = komsuBelirlermeMinkow(egitim, test, komsular)\n",
    "\tval = [row[-1] for row in komsular]\n",
    "\ttahmin = max(set(val), key=val.count)\n",
    "\treturn tahmin\n",
    "\n",
    "#TAHMİN\n",
    "filename = 'heart.csv'\n",
    "veriSeti = veri_al(filename)\n",
    "\n",
    "\n",
    "for i in range(len(veriSeti[0])-1):\n",
    "\tstr_column_to_float(veriSeti, i)\n",
    "# convert class column to integers\n",
    "str_column_to_int(veriSeti, len(veriSeti[0])-1)\n",
    "\n",
    "komsu_sayisi = 5\n",
    "\n",
    "#tahmin sonuclarını alıyoruz.\n",
    "sonucTahminMin=[]\n",
    "for i in range(0,len(veriSeti)): \n",
    "    row = veriSeti[i]\n",
    "\n",
    "    deger = tahmin(veriSeti, row, komsu_sayisi)\n",
    "    sonucTahminMin.append(deger)\n",
    "\n"
   ]
  },
  {
   "cell_type": "markdown",
   "metadata": {},
   "source": [
    "## Minkowski Mesafesi için Analizlerimiz :Confusion Matrisi ve Roc Eğrisi"
   ]
  },
  {
   "cell_type": "code",
   "execution_count": 8,
   "metadata": {},
   "outputs": [
    {
     "data": {
      "image/png": "[encoded data removed]",
      "text/plain": [
       "<Figure size 360x288 with 2 Axes>"
      ]
     },
     "metadata": {
      "needs_background": "light"
     },
     "output_type": "display_data"
    },
    {
     "name": "stdout",
     "output_type": "stream",
     "text": [
      "              precision    recall  f1-score   support\n",
      "\n",
      "           0       0.76      0.81      0.78       164\n",
      "           1       0.75      0.69      0.72       138\n",
      "\n",
      "   micro avg       0.75      0.75      0.75       302\n",
      "   macro avg       0.75      0.75      0.75       302\n",
      "weighted avg       0.75      0.75      0.75       302\n",
      "\n"
     ]
    }
   ],
   "source": [
    "knn_cf_result = confusion_matrix(hedefVeriler, sonucTahminMin)\n",
    "plt.figure(figsize=(5, 4))\n",
    "plot_confusion_matrix(knn_cf_result)\n",
    "plt.show()\n",
    "\n",
    "\n",
    "print(classification_report(hedefVeriler, sonucTahminMin))"
   ]
  },
  {
   "cell_type": "code",
   "execution_count": 9,
   "metadata": {},
   "outputs": [
    {
     "data": {
      "image/png": "[encoded data removed]",
      "text/plain": [
       "<Figure size 360x288 with 1 Axes>"
      ]
     },
     "metadata": {
      "needs_background": "light"
     },
     "output_type": "display_data"
    }
   ],
   "source": [
    "knn_auc_score = roc_auc_score(hedefVeriler, sonucTahminMin)\n",
    "knn_fpr, knn_tpr, knn_thresholds = roc_curve(hedefVeriler, sonucTahminMin)\n",
    "plt.figure(figsize=(5, 4))\n",
    "plot_roc_curve(knn_fpr, knn_tpr, knn_auc_score)\n",
    "plt.show()"
   ]
  },
  {
   "cell_type": "markdown",
   "metadata": {},
   "source": [
    "## K-NN Manhattan Mesafesi (p=1)"
   ]
  },
  {
   "cell_type": "code",
   "execution_count": 10,
   "metadata": {},
   "outputs": [],
   "source": [
    "#minkowski formülü üzerinde p değeri 1 alınarak manhattan mesafesine erişilmiştir.\n",
    "def mesafe_manhattan(row1, row2): \n",
    "    # vektör değerlerini paralel,satır olarak alınmıştır.\n",
    "    res=distance.minkowski(row1,row2,1)\n",
    "    return  res"
   ]
  },
  {
   "cell_type": "code",
   "execution_count": 11,
   "metadata": {},
   "outputs": [],
   "source": [
    "# Komşular(Neighbors)\n",
    "def komsuBelirlermeManhattan(egitimVerileri, testVerileri, komsu_sayisi):\n",
    "\tmesafeler = list()\n",
    "\tfor row in egitimVerileri:\n",
    "\t\tdist = mesafe_manhattan(testVerileri, row)\n",
    "\t\tmesafeler.append((row, dist))\n",
    "\tmesafeler.sort(key=lambda tup: tup[1])\n",
    "\tkomsuDegerler = list()\n",
    "\tfor i in range(komsu_sayisi):\n",
    "\t\tkomsuDegerler.append(mesafeler[i][0])\n",
    "\treturn komsuDegerler\n",
    "\n",
    "# Komşulardan tahmin etme kısmı\n",
    "def tahmin(egitim, test, komsular):\n",
    "\tkomsular = komsuBelirlermeManhattan(egitim, test, komsular)\n",
    "\tval = [row[-1] for row in komsular]\n",
    "\ttahmin = max(set(val), key=val.count)\n",
    "\treturn tahmin\n",
    "\n",
    "#tahmin\n",
    "\n",
    "veriSeti = veri_al(filename)\n",
    "\n",
    "\n",
    "for i in range(len(veriSeti[0])-1):\n",
    "\tstr_column_to_float(veriSeti, i)\n",
    "# convert class column to integers\n",
    "str_column_to_int(veriSeti, len(veriSeti[0])-1)\n",
    "\n",
    "komsu_sayisi = 5\n",
    "\n",
    "#tahmin sonuclarını alıyoruz.\n",
    "sonucTahminManhattan=[]\n",
    "for i in range(0,len(veriSeti)): \n",
    "    row = veriSeti[i]\n",
    "\n",
    "    deger = tahmin(veriSeti, row, komsu_sayisi)\n",
    "    sonucTahminManhattan.append(deger)\n"
   ]
  },
  {
   "cell_type": "markdown",
   "metadata": {},
   "source": [
    "## Manhattan Mesafesi için Analizlerimiz :Confusion Matrisi ve Roc Eğrisi"
   ]
  },
  {
   "cell_type": "code",
   "execution_count": 12,
   "metadata": {},
   "outputs": [
    {
     "data": {
      "image/png": "[encoded data removed]",
      "text/plain": [
       "<Figure size 360x288 with 2 Axes>"
      ]
     },
     "metadata": {
      "needs_background": "light"
     },
     "output_type": "display_data"
    },
    {
     "name": "stdout",
     "output_type": "stream",
     "text": [
      "              precision    recall  f1-score   support\n",
      "\n",
      "           0       0.80      0.85      0.83       164\n",
      "           1       0.81      0.75      0.78       138\n",
      "\n",
      "   micro avg       0.81      0.81      0.81       302\n",
      "   macro avg       0.81      0.80      0.81       302\n",
      "weighted avg       0.81      0.81      0.81       302\n",
      "\n"
     ]
    }
   ],
   "source": [
    "knn_cf_result = confusion_matrix(hedefVeriler, sonucTahminManhattan)\n",
    "plt.figure(figsize=(5, 4))\n",
    "plot_confusion_matrix(knn_cf_result)\n",
    "plt.show()\n",
    "\n",
    "\n",
    "print(classification_report(hedefVeriler, sonucTahminManhattan))"
   ]
  },
  {
   "cell_type": "code",
   "execution_count": 13,
   "metadata": {},
   "outputs": [
    {
     "data": {
      "image/png": "[encoded data removed]",
      "text/plain": [
       "<Figure size 360x288 with 1 Axes>"
      ]
     },
     "metadata": {
      "needs_background": "light"
     },
     "output_type": "display_data"
    }
   ],
   "source": [
    "knn_auc_score = roc_auc_score(hedefVeriler, sonucTahminManhattan)\n",
    "knn_fpr, knn_tpr, knn_thresholds = roc_curve(hedefVeriler, sonucTahminManhattan)\n",
    "plt.figure(figsize=(5, 4))\n",
    "plot_roc_curve(knn_fpr, knn_tpr, knn_auc_score)\n",
    "plt.show()"
   ]
  },
  {
   "cell_type": "code",
   "execution_count": null,
   "metadata": {},
   "outputs": [],
   "source": []
  }
 ],
 "metadata": {
  "kernelspec": {
   "display_name": "Python 3",
   "language": "python",
   "name": "python3"
  },
  "language_info": {
   "codemirror_mode": {
    "name": "ipython",
    "version": 3
   },
   "file_extension": ".py",
   "mimetype": "text/x-python",
   "name": "python",
   "nbconvert_exporter": "python",
   "pygments_lexer": "ipython3",
   "version": "3.7.1"
  }
 },
 "nbformat": 4,
 "nbformat_minor": 2
}
